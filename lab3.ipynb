{
 "cells": [
  {
   "cell_type": "code",
   "execution_count": 14,
   "metadata": {},
   "outputs": [],
   "source": [
    "import os\n"
   ]
  },
  {
   "cell_type": "code",
   "execution_count": 7,
   "metadata": {},
   "outputs": [],
   "source": [
    "directory = r\"C:\\Users\\18284\\Documents\\ArcGIS\\Projects\\MyProject2\\MyProject2.gdb\""
   ]
  },
  {
   "cell_type": "code",
   "execution_count": 8,
   "metadata": {},
   "outputs": [
    {
     "data": {
      "text/html": [
       "<div class='gpresult'><h2>Messages</h2><div id='messages' data-messages='[\"Start Time: Thursday, April 17, 2025 1:17:02 PM\",\"Successfully converted:  digital_elevation_model_30m To C:\\\\Users\\\\18284\\\\Documents\\\\ArcGIS\\\\Projects\\\\MyProject2\\\\MyProject2.gdb\\\\digital_elevation_model_30m\",\"Succeeded at Thursday, April 17, 2025 1:20:15 PM (Elapsed Time: 3 minutes 13 seconds)\"]' data-show='true'><div id = 'default' /></div></div>"
      ],
      "text/plain": [
       "<Result ''>"
      ]
     },
     "execution_count": 8,
     "metadata": {},
     "output_type": "execute_result"
    }
   ],
   "source": [
    "arcpy.conversion.RasterToGeodatabase(\n",
    "    Input_Rasters=\"digital_elevation_model_30m\",\n",
    "    Output_Geodatabase=r\"C:\\Users\\18284\\Documents\\ArcGIS\\Projects\\MyProject2\\MyProject2.gdb\",\n",
    "    Configuration_Keyword=\"\"\n",
    ")"
   ]
  },
  {
   "cell_type": "code",
   "execution_count": 9,
   "metadata": {},
   "outputs": [
    {
     "data": {
      "text/html": [
       "<div class='gpresult'><h2>Messages</h2><div id='messages' data-messages='[\"Start Time: Thursday, April 17, 2025 1:21:25 PM\",\"Building Pyramids...\",\"Succeeded at Thursday, April 17, 2025 1:22:53 PM (Elapsed Time: 1 minutes 28 seconds)\"]' data-show='true'><div id = 'default' /></div></div>"
      ],
      "text/plain": [
       "<Result 'C:\\\\Users\\\\18284\\\\Documents\\\\ArcGIS\\\\Projects\\\\MyProject2\\\\MyProject2.gdb\\\\digital_elevation_m_Resample'>"
      ]
     },
     "execution_count": 9,
     "metadata": {},
     "output_type": "execute_result"
    }
   ],
   "source": [
    "arcpy.management.Resample(\n",
    "    in_raster=\"digital_elevation_model_30m\",\n",
    "    out_raster=r\"C:\\Users\\18284\\Documents\\ArcGIS\\Projects\\MyProject2\\MyProject2.gdb\\digital_elevation_m_Resample\",\n",
    "    cell_size=\"10000 10000\",\n",
    "    resampling_type=\"NEAREST\"\n",
    ")"
   ]
  },
  {
   "cell_type": "code",
   "execution_count": 10,
   "metadata": {},
   "outputs": [
    {
     "data": {
      "text/html": [
       "<div class='gpresult'><h2>Messages</h2><div id='messages' data-messages='[\"Start Time: Thursday, April 17, 2025 1:23:47 PM\",\"Succeeded at Thursday, April 17, 2025 1:26:36 PM (Elapsed Time: 2 minutes 49 seconds)\"]' data-show='true'><div id = 'default' /></div></div>"
      ],
      "text/plain": [
       "<Result 'C:\\\\Users\\\\18284\\\\Documents\\\\ArcGIS\\\\Projects\\\\MyProject2\\\\MyProject2.gdb\\\\RasterT_digital1'>"
      ]
     },
     "execution_count": 10,
     "metadata": {},
     "output_type": "execute_result"
    }
   ],
   "source": [
    "arcpy.conversion.RasterToPoint(\n",
    "    in_raster=\"digital_elevation_m_Resample\",\n",
    "    out_point_features=r\"C:\\Users\\18284\\Documents\\ArcGIS\\Projects\\MyProject2\\MyProject2.gdb\\RasterT_digital1\",\n",
    "    raster_field=\"Value\"\n",
    ")"
   ]
  },
  {
   "cell_type": "code",
   "execution_count": 16,
   "metadata": {},
   "outputs": [
    {
     "data": {
      "text/html": [
       "<div class='gpresult'><h2>Messages</h2><div id='messages' data-messages='[\"Start Time: Thursday, April 17, 2025 2:07:30 PM\",\"Calculating Ordinary Kriging – Default\",\"Calculating Ordinary Kriging – Optimized\",\"Calculating Universal Kriging – Default\",\"Calculating Universal Kriging – Optimized\",\"Calculating Inverse Distance Weighted - Default\",\"Calculating Inverse Distance Weighted - Optimized\",\" \\n\",\"--------------------------------------------\",\"RANK | NAME\",\"--------------------------------------------\",\"\\n\",\"1    | Universal Kriging – Optimized\",\"\\n\",\"2    | Universal Kriging – Default\",\"\\n\",\"3    | Ordinary Kriging – Optimized\",\"\\n\",\"4    | Ordinary Kriging – Default\",\"\\n\",\"5    | Inverse Distance Weighted - Optimized\",\"\\n\",\"6    | Inverse Distance Weighted - Default\",\"--------------------------------------------\",\"Succeeded at Thursday, April 17, 2025 2:07:36 PM (Elapsed Time: 5.73 seconds)\"]' data-show='true'><div id = 'default' /></div></div>"
      ],
      "text/plain": [
       "<Result 'C:\\\\Users\\\\18284\\\\Documents\\\\ArcGIS\\\\Projects\\\\MyProject2\\\\MyProject2.gdb\\\\ExploratoryInterpolation1'>"
      ]
     },
     "execution_count": 16,
     "metadata": {},
     "output_type": "execute_result"
    }
   ],
   "source": [
    "arcpy.ga.ExploratoryInterpolation(\n",
    "    in_features=\"RasterT_digital1\",\n",
    "    value_field=\"grid_code\",\n",
    "    out_cv_table=r\"C:\\Users\\18284\\Documents\\ArcGIS\\Projects\\MyProject2\\MyProject2.gdb\\ExploratoryInterpolation1\",\n",
    "    out_geostat_layer='DEM_interpolator',\n",
    "    interp_methods=\"ORDINARY_KRIGING;UNIVERSAL_KRIGING;IDW\",\n",
    "    comparison_method=\"SINGLE\",\n",
    "    criterion=\"ACCURACY\",\n",
    "    criteria_hierarchy=\"ACCURACY PERCENT #\",\n",
    "    weighted_criteria=\"ACCURACY 1\",\n",
    "    exclusion_criteria=None\n",
    ")"
   ]
  },
  {
   "cell_type": "code",
   "execution_count": 17,
   "metadata": {},
   "outputs": [
    {
     "data": {
      "text/html": [
       "<div class='gpresult'><h2>Messages</h2><div id='messages' data-messages='[\"Start Time: Thursday, April 17, 2025 2:07:49 PM\",\"Succeeded at Thursday, April 17, 2025 2:07:51 PM (Elapsed Time: 2.05 seconds)\"]' data-show='true'><div id = 'default' /></div></div>"
      ],
      "text/plain": [
       "<Result 'C:\\\\Users\\\\18284\\\\Documents\\\\ArcGIS\\\\Projects\\\\MyProject2\\\\MyProject2.gdb\\\\GALayerToPoints1'>"
      ]
     },
     "execution_count": 17,
     "metadata": {},
     "output_type": "execute_result"
    }
   ],
   "source": [
    "arcpy.ga.GALayerToPoints(\n",
    "    in_geostat_layer=\"DEM_interpolator\",\n",
    "    in_locations=\"RasterT_digital1\",\n",
    "    z_field=\"grid_code\",\n",
    "    out_feature_class=r\"C:\\Users\\18284\\Documents\\ArcGIS\\Projects\\MyProject2\\MyProject2.gdb\\GALayerToPoints1\",\n",
    "    append_all_fields=\"ALL\",\n",
    "    elevation_field=\"pointid\",\n",
    "    elevation_units=\"METER\"\n",
    ")"
   ]
  },
  {
   "cell_type": "code",
   "execution_count": 1,
   "metadata": {},
   "outputs": [
    {
     "name": "stdout",
     "output_type": "stream",
     "text": [
      "Points added to map!\n"
     ]
    }
   ],
   "source": [
    "arcpy.management.XYTableToPoint(\n",
    "    in_table=\"cdd.csv\",\n",
    "    out_feature_class=r\"C:\\Users\\18284\\Documents\\ArcGIS\\Projects\\MyProject2\\MyProject2.gdb\\cdd_XYTableToPoint\",\n",
    "    x_field=\"Longitude\",\n",
    "    y_field=\"Latitude\",\n",
    "    z_field=None,\n",
    "    coordinate_system='GEOGCS[\"GCS_WGS_1984\",DATUM[\"D_WGS_1984\",SPHEROID[\"WGS_1984\",6378137.0,298.257223563]],PRIMEM[\"Greenwich\",0.0],UNIT[\"Degree\",0.0174532925199433]];-400 -400 1000000000;-100000 10000;-100000 10000;8.98315284119521E-09;0.001;0.001;IsHighPrecision'\n",
    ")\n",
    "\n",
    "print(\"Points added to map!\")\n",
    "     "
   ]
  },
  {
   "cell_type": "code",
   "execution_count": 4,
   "metadata": {},
   "outputs": [
    {
     "data": {
      "text/html": [
       "<div class='gpresult'><h2>Messages</h2><div id='messages' data-messages='[\"Start Time: Wednesday, April 23, 2025 4:08:46 PM\",\"Calculating Ordinary Kriging – Default\",\"Calculating Ordinary Kriging – Optimized\",\"Calculating Universal Kriging – Default\",\"Calculating Universal Kriging – Optimized\",\"Calculating Inverse Distance Weighted - Default\",\"Calculating Inverse Distance Weighted - Optimized\",\" \\n\",\"--------------------------------------------\",\"RANK | NAME\",\"--------------------------------------------\",\"\\n\",\"1    | Inverse Distance Weighted - Optimized\",\"\\n\",\"2    | Ordinary Kriging – Optimized\",\"\\n\",\"3    | Universal Kriging – Default\",\"\\n\",\"4    | Universal Kriging – Optimized\",\"\\n\",\"5    | Inverse Distance Weighted - Default\",\"\\n\",\"6    | Ordinary Kriging – Default\",\"--------------------------------------------\",\"Succeeded at Wednesday, April 23, 2025 4:08:50 PM (Elapsed Time: 3.42 seconds)\"]' data-show='true'><div id = 'default' /></div></div>"
      ],
      "text/plain": [
       "<Result 'C:\\\\Users\\\\18284\\\\Documents\\\\ArcGIS\\\\Projects\\\\MyProject2\\\\MyProject2.gdb\\\\ExploratoryInterpolation2'>"
      ]
     },
     "execution_count": 4,
     "metadata": {},
     "output_type": "execute_result"
    }
   ],
   "source": [
    "arcpy.ga.ExploratoryInterpolation(\n",
    "    in_features=\"cdd_XYTableToPoint\",\n",
    "    value_field=\"June\",\n",
    "    out_cv_table=r\"C:\\Users\\18284\\Documents\\ArcGIS\\Projects\\MyProject2\\MyProject2.gdb\\ExploratoryInterpolation2\",\n",
    "    out_geostat_layer=\"Temp_interpolator\",\n",
    "    interp_methods=\"ORDINARY_KRIGING;UNIVERSAL_KRIGING;IDW\",\n",
    "    comparison_method=\"SINGLE\",\n",
    "    criterion=\"ACCURACY\",\n",
    "    criteria_hierarchy=\"ACCURACY PERCENT #\",\n",
    "    weighted_criteria=\"ACCURACY 1\",\n",
    "    exclusion_criteria=None\n",
    ")"
   ]
  },
  {
   "cell_type": "code",
   "execution_count": 5,
   "metadata": {},
   "outputs": [
    {
     "data": {
      "text/html": [
       "<div class='gpresult'><h2>Messages</h2><div id='messages' data-messages='[\"Start Time: Wednesday, April 23, 2025 4:11:24 PM\",\"Succeeded at Wednesday, April 23, 2025 4:14:13 PM (Elapsed Time: 2 minutes 49 seconds)\"]' data-show='true'><div id = 'default' /></div></div>"
      ],
      "text/plain": [
       "<Result 'C:\\\\Users\\\\18284\\\\Documents\\\\ArcGIS\\\\Projects\\\\MyProject2\\\\MyProject2.gdb\\\\GALayerToPoints2'>"
      ]
     },
     "execution_count": 5,
     "metadata": {},
     "output_type": "execute_result"
    }
   ],
   "source": [
    "arcpy.ga.GALayerToPoints(\n",
    "    in_geostat_layer=\"Temp_interpolator\",\n",
    "    in_locations=\"cdd_XYTableToPoint\",\n",
    "    z_field=None,\n",
    "    out_feature_class=r\"C:\\Users\\18284\\Documents\\ArcGIS\\Projects\\MyProject2\\MyProject2.gdb\\GALayerToPoints2\",\n",
    "    append_all_fields=\"ALL\",\n",
    "    elevation_field=\"Latitude\",\n",
    "    elevation_units=\"METER\"\n",
    ")"
   ]
  },
  {
   "cell_type": "code",
   "execution_count": 6,
   "metadata": {},
   "outputs": [
    {
     "data": {
      "text/html": [
       "<div class='gpresult'><h2>Messages</h2><div id='messages' data-messages='[\"Start Time: Wednesday, April 23, 2025 4:39:34 PM\",\"Succeeded at Wednesday, April 23, 2025 4:42:11 PM (Elapsed Time: 2 minutes 37 seconds)\"]' data-show='true'><div id = 'default' /></div></div>"
      ],
      "text/plain": [
       "<Result 'C:\\\\Users\\\\18284\\\\Documents\\\\ArcGIS\\\\Projects\\\\MyProject2\\\\34.134.195.125.sde\\\\lab0.postgres.elevation'>"
      ]
     },
     "execution_count": 6,
     "metadata": {},
     "output_type": "execute_result"
    }
   ],
   "source": [
    "arcpy.conversion.ExportFeatures(\n",
    "    in_features=\"GALayerToPoints1\",\n",
    "    out_features=r\"C:\\Users\\18284\\Documents\\ArcGIS\\Projects\\MyProject2\\34.134.195.125.sde\\lab0.postgres.elevation\",\n",
    "    where_clause=\"\",\n",
    "    use_field_alias_as_name=\"NOT_USE_ALIAS\",\n",
    "    field_mapping='pointid \"pointid\" true true false 4 Long 0 0,First,#,GALayerToPoints1,pointid,-1,-1;grid_code \"grid_code\" true true false 4 Long 0 0,First,#,GALayerToPoints1,grid_code,-1,-1;Included \"Included\" true true false 255 Text 0 0,First,#,GALayerToPoints1,Included,0,255;Predicted \"Predicted\" true true false 8 Double 0 0,First,#,GALayerToPoints1,Predicted,-1,-1;Error \"Error\" true true false 8 Double 0 0,First,#,GALayerToPoints1,Error,-1,-1;StdError \"Standard Error\" true true false 8 Double 0 0,First,#,GALayerToPoints1,StdError,-1,-1;Stdd_Error \"Standardized Error\" true true false 8 Double 0 0,First,#,GALayerToPoints1,Stdd_Error,-1,-1;NormValue \"Normal Value\" true true false 8 Double 0 0,First,#,GALayerToPoints1,NormValue,-1,-1',\n",
    "    sort_field=None\n",
    ")"
   ]
  },
  {
   "cell_type": "code",
   "execution_count": 7,
   "metadata": {},
   "outputs": [
    {
     "data": {
      "text/html": [
       "<div class='gpresult'><h2>Messages</h2><div id='messages' data-messages='[\"Start Time: Wednesday, April 23, 2025 4:58:40 PM\",\"Succeeded at Wednesday, April 23, 2025 4:59:45 PM (Elapsed Time: 1 minutes 5 seconds)\"]' data-show='true'><div id = 'default' /></div></div>"
      ],
      "text/plain": [
       "<Result 'C:\\\\Users\\\\18284\\\\Documents\\\\ArcGIS\\\\Projects\\\\MyProject2\\\\34.134.195.125.sde\\\\lab0.postgres.temp'>"
      ]
     },
     "execution_count": 7,
     "metadata": {},
     "output_type": "execute_result"
    }
   ],
   "source": [
    "arcpy.conversion.ExportFeatures(\n",
    "    in_features=\"GALayerToPoints2\",\n",
    "    out_features=r\"C:\\Users\\18284\\Documents\\ArcGIS\\Projects\\MyProject2\\34.134.195.125.sde\\lab0.postgres.temp\",\n",
    "    where_clause=\"\",\n",
    "    use_field_alias_as_name=\"NOT_USE_ALIAS\",\n",
    "    field_mapping='ID \"ID\" true true false 8000 Text 0 0,First,#,GALayerToPoints2,ID,0,8000;Latitude \"Latitude\" true true false 8 Double 0 0,First,#,GALayerToPoints2,Latitude,-1,-1;Longitude \"Longitude\" true true false 8 Double 0 0,First,#,GALayerToPoints2,Longitude,-1,-1;Name \"Name\" true true false 8000 Text 0 0,First,#,GALayerToPoints2,Name,0,8000;January \"January\" true true false 8 Double 0 0,First,#,GALayerToPoints2,January,-1,-1;February \"February\" true true false 8 Double 0 0,First,#,GALayerToPoints2,February,-1,-1;March \"March\" true true false 8 Double 0 0,First,#,GALayerToPoints2,March,-1,-1;April \"April\" true true false 8 Double 0 0,First,#,GALayerToPoints2,April,-1,-1;May \"May\" true true false 8 Double 0 0,First,#,GALayerToPoints2,May,-1,-1;June \"June\" true true false 8 Double 0 0,First,#,GALayerToPoints2,June,-1,-1;July \"July\" true true false 8 Double 0 0,First,#,GALayerToPoints2,July,-1,-1;August \"August\" true true false 8 Double 0 0,First,#,GALayerToPoints2,August,-1,-1;September \"September\" true true false 8 Double 0 0,First,#,GALayerToPoints2,September,-1,-1;October \"October\" true true false 8 Double 0 0,First,#,GALayerToPoints2,October,-1,-1;November \"November\" true true false 8 Double 0 0,First,#,GALayerToPoints2,November,-1,-1;December \"December\" true true false 8 Double 0 0,First,#,GALayerToPoints2,December,-1,-1;geometry \"geometry\" true true false 8000 Text 0 0,First,#,GALayerToPoints2,geometry,0,8000;Included \"Included\" true true false 255 Text 0 0,First,#,GALayerToPoints2,Included,0,255;Predicted \"Predicted\" true true false 8 Double 0 0,First,#,GALayerToPoints2,Predicted,-1,-1',\n",
    "    sort_field=None\n",
    ")"
   ]
  },
  {
   "cell_type": "code",
   "execution_count": null,
   "metadata": {},
   "outputs": [],
   "source": []
  }
 ],
 "metadata": {
  "kernelspec": {
   "display_name": "ArcGISPro",
   "language": "Python",
   "name": "python3"
  },
  "language_info": {
   "file_extension": ".py",
   "name": "python",
   "version": "3"
  }
 },
 "nbformat": 4,
 "nbformat_minor": 2
}
